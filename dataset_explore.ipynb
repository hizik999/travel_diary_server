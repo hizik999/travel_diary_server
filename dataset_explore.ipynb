{
 "cells": [
  {
   "cell_type": "code",
   "execution_count": 15,
   "metadata": {},
   "outputs": [],
   "source": [
    "import numpy as np \n",
    "import pandas as pd \n",
    "import matplotlib.pyplot as plt \n",
    "import seaborn as sns\n",
    "from pathlib import Path\n",
    "from enum import Enum"
   ]
  },
  {
   "cell_type": "code",
   "execution_count": 56,
   "metadata": {},
   "outputs": [
    {
     "name": "stdout",
     "output_type": "stream",
     "text": [
      "280317\n"
     ]
    }
   ],
   "source": [
    "motion_txt_path = \"useful_dataset/motion.txt\"\n",
    "label_txt_path = \"useful_dataset/label.txt\"\n",
    "\n",
    "folder_path_string = \"full_archive/release/User1/\"\n",
    "folder_path = Path(folder_path_string)\n",
    "#needed_files = [\"Hips_Motion.txt\", \"Label.txt\"]\n",
    "hips_motion = \"Hips_Motion.txt\"\n",
    "label = \"Label.txt\"\n",
    "\n",
    "for file_name in folder_path.iterdir():\n",
    "    folder_name = str(file_name).split(\"/\")[-1]\n",
    "    print(folder_name)\n",
    "    for file in file_name.iterdir():\n",
    "        last_file_name = str(file).split(\"/\")[-1]\n",
    "\n",
    "        if last_file_name == hips_motion:\n",
    "            with open(file, 'r') as source_file:\n",
    "                with open(motion_txt_path, 'a') as motion_file:\n",
    "                    source_data = source_file.readlines()\n",
    "                    for line in source_data:\n",
    "                        motion_file.write(line)\n",
    "                    \n",
    "        elif last_file_name == label:\n",
    "            with open(file, 'r') as source_file:\n",
    "                with open(label_txt_path, 'w') as label_file:\n",
    "                    source_data = source_file.readlines()\n",
    "                    for line in source_data:\n",
    "                        label_file.write(line)\n",
    "    break"
   ]
  },
  {
   "cell_type": "code",
   "execution_count": 53,
   "metadata": {},
   "outputs": [
    {
     "name": "stdout",
     "output_type": "stream",
     "text": [
      "1490688591000.000000 NaN NaN NaN NaN NaN NaN NaN NaN NaN NaN NaN NaN NaN NaN NaN NaN NaN NaN NaN NaN NaN NaN\n",
      "\n",
      "1490688591010.000000 NaN NaN NaN NaN NaN NaN NaN NaN NaN NaN NaN NaN NaN NaN NaN NaN NaN NaN NaN NaN NaN NaN\n",
      "\n",
      "1490688591020.000000 NaN NaN NaN NaN NaN NaN NaN NaN NaN NaN NaN NaN NaN NaN NaN NaN NaN NaN NaN NaN NaN NaN\n",
      "\n",
      "1490688591030.000000 NaN NaN NaN NaN NaN NaN NaN NaN NaN NaN NaN NaN NaN NaN NaN NaN NaN NaN NaN NaN NaN NaN\n",
      "\n",
      "1490688591040.000000 NaN NaN NaN NaN NaN NaN NaN NaN NaN NaN NaN NaN NaN NaN NaN NaN NaN NaN NaN NaN NaN NaN\n",
      "\n",
      "1490688591050.000000 NaN NaN NaN NaN NaN NaN NaN NaN NaN NaN NaN NaN NaN NaN NaN NaN NaN NaN NaN NaN NaN NaN\n",
      "\n",
      "1490688591060.000000 NaN NaN NaN NaN NaN NaN NaN NaN NaN NaN NaN NaN NaN NaN NaN NaN NaN NaN NaN NaN NaN NaN\n",
      "\n",
      "1490688591070.000000 NaN NaN NaN NaN NaN NaN NaN NaN NaN NaN NaN NaN NaN NaN NaN NaN NaN NaN NaN NaN NaN NaN\n",
      "\n",
      "1490688591080.000000 NaN NaN NaN NaN NaN NaN NaN NaN NaN NaN NaN NaN NaN NaN NaN NaN NaN NaN NaN NaN NaN NaN\n",
      "\n",
      "1490688591090.000000 NaN NaN NaN NaN NaN NaN NaN NaN NaN NaN NaN NaN NaN NaN NaN NaN NaN NaN NaN NaN NaN NaN\n",
      "\n"
     ]
    }
   ],
   "source": [
    "with open(motion_txt_path) as f:\n",
    "    data = f.readlines()\n",
    "    size = len(data)\n",
    "\n",
    "    for i in range(10):\n",
    "        print(data[i])"
   ]
  },
  {
   "cell_type": "code",
   "execution_count": 10,
   "metadata": {},
   "outputs": [
    {
     "name": "stdout",
     "output_type": "stream",
     "text": [
      "1488376622000.000000 NaN NaN NaN NaN NaN NaN NaN NaN NaN NaN NaN NaN NaN NaN NaN NaN NaN NaN NaN NaN NaN NaN\n",
      "\n",
      "1488376622010.000000 NaN NaN NaN NaN NaN NaN NaN NaN NaN NaN NaN NaN NaN NaN NaN NaN NaN NaN NaN NaN NaN NaN\n",
      "\n",
      "1488376622020.000000 NaN NaN NaN NaN NaN NaN NaN NaN NaN NaN NaN NaN NaN NaN NaN NaN NaN NaN NaN NaN NaN NaN\n",
      "\n",
      "1488376622030.000000 NaN NaN NaN NaN NaN NaN NaN NaN NaN NaN NaN NaN NaN NaN NaN NaN NaN NaN NaN NaN NaN NaN\n",
      "\n",
      "1488376622040.000000 NaN NaN NaN NaN NaN NaN NaN NaN NaN NaN NaN NaN NaN NaN NaN NaN NaN NaN NaN NaN NaN NaN\n",
      "\n",
      "1488376622050.000000 NaN NaN NaN NaN NaN NaN NaN NaN NaN NaN NaN NaN NaN NaN NaN NaN NaN NaN NaN NaN NaN NaN\n",
      "\n",
      "1488376622060.000000 NaN NaN NaN NaN NaN NaN NaN NaN NaN NaN NaN NaN NaN NaN NaN NaN NaN NaN NaN NaN NaN NaN\n",
      "\n",
      "1488376622070.000000 NaN NaN NaN NaN NaN NaN NaN NaN NaN NaN NaN NaN NaN NaN NaN NaN NaN NaN NaN NaN NaN NaN\n",
      "\n",
      "1488376622080.000000 NaN NaN NaN NaN NaN NaN NaN NaN NaN NaN NaN NaN NaN NaN NaN NaN NaN NaN NaN NaN NaN NaN\n",
      "\n",
      "1488376622090.000000 NaN NaN NaN NaN NaN NaN NaN NaN NaN NaN NaN NaN NaN NaN NaN NaN NaN NaN NaN NaN NaN NaN\n",
      "\n"
     ]
    }
   ],
   "source": [
    "\n",
    "\n",
    "with open(\"full_archive/release/User1/010317/Hips_Motion.txt\") as f:\n",
    "    data = f.readlines()\n",
    "    size = len(data)\n",
    "\n",
    "    for i in range(10):\n",
    "        print(data[i])"
   ]
  }
 ],
 "metadata": {
  "kernelspec": {
   "display_name": "venv",
   "language": "python",
   "name": "python3"
  },
  "language_info": {
   "codemirror_mode": {
    "name": "ipython",
    "version": 3
   },
   "file_extension": ".py",
   "mimetype": "text/x-python",
   "name": "python",
   "nbconvert_exporter": "python",
   "pygments_lexer": "ipython3",
   "version": "3.11.5"
  }
 },
 "nbformat": 4,
 "nbformat_minor": 2
}
