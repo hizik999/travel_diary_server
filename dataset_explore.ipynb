{
 "cells": [
  {
   "cell_type": "code",
   "execution_count": 2,
   "metadata": {},
   "outputs": [],
   "source": [
    "import numpy as np \n",
    "import pandas as pd \n",
    "import matplotlib.pyplot as plt \n",
    "import seaborn as sns\n",
    "from pathlib import Path\n",
    "from enum import Enum"
   ]
  },
  {
   "cell_type": "code",
   "execution_count": 3,
   "metadata": {},
   "outputs": [],
   "source": [
    "motion_txt_path = \"useful_dataset/motion.txt\"\n",
    "label_txt_path = \"useful_dataset/label.txt\"\n",
    "\n",
    "folder_path_string = \"full_archive/release/User1/\"\n",
    "folder_path = Path(folder_path_string)\n",
    "\n",
    "hips_motion = \"Hips_Motion.txt\"\n",
    "label = \"Label.txt\"\n",
    "\n",
    "### очистка содержимого в файлах\n",
    "# with open(motion_txt_path, 'w') as motion_file:\n",
    "#     pass\n",
    "\n",
    "# with open(label_txt_path, 'w') as label_file:\n",
    "#     pass\n",
    "\n",
    "### перебор всех папок в User1/\n",
    "# for file_name in folder_path.iterdir():\n",
    "#     folder_name = str(file_name).split(\"/\")[-1]\n",
    "#     print(\"processed\", folder_name)\n",
    "#     for file in file_name.iterdir():\n",
    "#         last_file_name = str(file).split(\"/\")[-1]\n",
    "#         if last_file_name == hips_motion:\n",
    "#             with open(file, 'r') as source_file:\n",
    "#                 with open(motion_txt_path, 'a') as motion_file:\n",
    "#                     source_data = source_file.readlines()\n",
    "#                     for line in source_data:\n",
    "#                         motion_file.write(line)\n",
    "                    \n",
    "#         elif last_file_name == label:\n",
    "#             with open(file, 'r') as source_file:\n",
    "#                 with open(label_txt_path, 'a') as label_file:\n",
    "#                     source_data = source_file.readlines()\n",
    "#                     for line in source_data:\n",
    "#                         label_file.write(line)\n",
    "    #break"
   ]
  },
  {
   "cell_type": "code",
   "execution_count": 5,
   "metadata": {},
   "outputs": [
    {
     "name": "stdout",
     "output_type": "stream",
     "text": [
      "Файл успешно преобразован в CSV.\n"
     ]
    }
   ],
   "source": [
    "import csv\n",
    "\n",
    "\n",
    "label_csv_path = \"useful_dataset/label.csv\"\n",
    "\n",
    "# Открываем текстовый файл для чтения\n",
    "with open(label_txt_path, 'r') as txt_file:\n",
    "    # Читаем строки из текстового файла\n",
    "    lines = txt_file.readlines()\n",
    "\n",
    "# Определяем заголовки столбцов\n",
    "headers_label = ['time', 'coarse', 'fine_label', 'road_label', 'traffic_label', 'tunnels_label', 'social_label', 'food_label']\n",
    "\n",
    "# Открываем CSV файл для записи\n",
    "with open(label_csv_path, 'w', newline='') as csv_file:\n",
    "    csv_writer = csv.writer(csv_file)\n",
    "\n",
    "    # Записываем заголовки\n",
    "    csv_writer.writerow(headers_label)\n",
    "\n",
    "    # Записываем данные из текстового файла\n",
    "    for line in lines:\n",
    "        # Разбиваем каждую строку по пробелам (или другим разделителям, если нужно)\n",
    "        row = line.strip().split()\n",
    "        csv_writer.writerow(row)\n",
    "\n",
    "print(\"Файл успешно преобразован в CSV.\")\n"
   ]
  }
 ],
 "metadata": {
  "kernelspec": {
   "display_name": "venv",
   "language": "python",
   "name": "python3"
  },
  "language_info": {
   "codemirror_mode": {
    "name": "ipython",
    "version": 3
   },
   "file_extension": ".py",
   "mimetype": "text/x-python",
   "name": "python",
   "nbconvert_exporter": "python",
   "pygments_lexer": "ipython3",
   "version": "3.11.5"
  }
 },
 "nbformat": 4,
 "nbformat_minor": 2
}
